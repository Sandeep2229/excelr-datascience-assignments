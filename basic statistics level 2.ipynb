{
 "cells": [
  {
   "cell_type": "code",
   "execution_count": 1,
   "id": "960bed38",
   "metadata": {},
   "outputs": [
    {
     "data": {
      "text/html": [
       "<div>\n",
       "<style scoped>\n",
       "    .dataframe tbody tr th:only-of-type {\n",
       "        vertical-align: middle;\n",
       "    }\n",
       "\n",
       "    .dataframe tbody tr th {\n",
       "        vertical-align: top;\n",
       "    }\n",
       "\n",
       "    .dataframe thead th {\n",
       "        text-align: right;\n",
       "    }\n",
       "</style>\n",
       "<table border=\"1\" class=\"dataframe\">\n",
       "  <thead>\n",
       "    <tr style=\"text-align: right;\">\n",
       "      <th></th>\n",
       "      <th>Name of company</th>\n",
       "      <th>Measure X</th>\n",
       "    </tr>\n",
       "  </thead>\n",
       "  <tbody>\n",
       "    <tr>\n",
       "      <th>0</th>\n",
       "      <td>Allied Signal</td>\n",
       "      <td>24.23%</td>\n",
       "    </tr>\n",
       "    <tr>\n",
       "      <th>1</th>\n",
       "      <td>Bankers Trust</td>\n",
       "      <td>25.53%</td>\n",
       "    </tr>\n",
       "    <tr>\n",
       "      <th>2</th>\n",
       "      <td>General Mills</td>\n",
       "      <td>25.41%</td>\n",
       "    </tr>\n",
       "    <tr>\n",
       "      <th>3</th>\n",
       "      <td>ITT Industries</td>\n",
       "      <td>24.14%</td>\n",
       "    </tr>\n",
       "    <tr>\n",
       "      <th>4</th>\n",
       "      <td>J.P.Morgan &amp; Co.</td>\n",
       "      <td>29.62%</td>\n",
       "    </tr>\n",
       "    <tr>\n",
       "      <th>5</th>\n",
       "      <td>Lehman Brothers</td>\n",
       "      <td>28.25%</td>\n",
       "    </tr>\n",
       "    <tr>\n",
       "      <th>6</th>\n",
       "      <td>Marriott</td>\n",
       "      <td>25.81%</td>\n",
       "    </tr>\n",
       "    <tr>\n",
       "      <th>7</th>\n",
       "      <td>MCI</td>\n",
       "      <td>24.39%</td>\n",
       "    </tr>\n",
       "    <tr>\n",
       "      <th>8</th>\n",
       "      <td>Merrill Lynch</td>\n",
       "      <td>40.26%</td>\n",
       "    </tr>\n",
       "    <tr>\n",
       "      <th>9</th>\n",
       "      <td>Microsoft</td>\n",
       "      <td>32.95%</td>\n",
       "    </tr>\n",
       "    <tr>\n",
       "      <th>10</th>\n",
       "      <td>Morgan Stanley</td>\n",
       "      <td>91.36%</td>\n",
       "    </tr>\n",
       "    <tr>\n",
       "      <th>11</th>\n",
       "      <td>Sun Microsystems</td>\n",
       "      <td>25.99%</td>\n",
       "    </tr>\n",
       "    <tr>\n",
       "      <th>12</th>\n",
       "      <td>Travelers</td>\n",
       "      <td>39.42%</td>\n",
       "    </tr>\n",
       "    <tr>\n",
       "      <th>13</th>\n",
       "      <td>US Airways</td>\n",
       "      <td>26.71%</td>\n",
       "    </tr>\n",
       "    <tr>\n",
       "      <th>14</th>\n",
       "      <td>Warner-Lambert</td>\n",
       "      <td>35.00%</td>\n",
       "    </tr>\n",
       "  </tbody>\n",
       "</table>\n",
       "</div>"
      ],
      "text/plain": [
       "     Name of company Measure X\n",
       "0      Allied Signal    24.23%\n",
       "1      Bankers Trust    25.53%\n",
       "2      General Mills    25.41%\n",
       "3     ITT Industries    24.14%\n",
       "4   J.P.Morgan & Co.    29.62%\n",
       "5    Lehman Brothers    28.25%\n",
       "6           Marriott    25.81%\n",
       "7                MCI    24.39%\n",
       "8      Merrill Lynch    40.26%\n",
       "9          Microsoft    32.95%\n",
       "10    Morgan Stanley    91.36%\n",
       "11  Sun Microsystems    25.99%\n",
       "12         Travelers    39.42%\n",
       "13        US Airways    26.71%\n",
       "14    Warner-Lambert    35.00%"
      ]
     },
     "execution_count": 1,
     "metadata": {},
     "output_type": "execute_result"
    }
   ],
   "source": [
    "# 1 Look at the data given below. Plot the data, find the outliers and find out  μ,σ,σ^2\n",
    "import pandas as pd\n",
    "df=pd.read_csv(\"C:\\\\Users\\\\admin\\\\Downloads\\\\assignment.csv\")\n",
    "df"
   ]
  },
  {
   "cell_type": "code",
   "execution_count": 2,
   "id": "adba4eb6",
   "metadata": {},
   "outputs": [
    {
     "name": "stdout",
     "output_type": "stream",
     "text": [
      "<class 'pandas.core.frame.DataFrame'>\n",
      "RangeIndex: 15 entries, 0 to 14\n",
      "Data columns (total 2 columns):\n",
      " #   Column           Non-Null Count  Dtype \n",
      "---  ------           --------------  ----- \n",
      " 0   Name of company  15 non-null     object\n",
      " 1   Measure X        15 non-null     object\n",
      "dtypes: object(2)\n",
      "memory usage: 372.0+ bytes\n"
     ]
    }
   ],
   "source": [
    "df.info()"
   ]
  },
  {
   "cell_type": "code",
   "execution_count": 5,
   "id": "a81acb90",
   "metadata": {},
   "outputs": [
    {
     "data": {
      "text/plain": [
       "0     24.23%\n",
       "1     25.53%\n",
       "2     25.41%\n",
       "3     24.14%\n",
       "4     29.62%\n",
       "5     28.25%\n",
       "6     25.81%\n",
       "7     24.39%\n",
       "8     40.26%\n",
       "9     32.95%\n",
       "10    91.36%\n",
       "11    25.99%\n",
       "12    39.42%\n",
       "13    26.71%\n",
       "14    35.00%\n",
       "Name: Measure X, dtype: object"
      ]
     },
     "execution_count": 5,
     "metadata": {},
     "output_type": "execute_result"
    }
   ],
   "source": [
    "df['Measure X']"
   ]
  },
  {
   "cell_type": "code",
   "execution_count": 9,
   "id": "d4fa4dad",
   "metadata": {},
   "outputs": [
    {
     "name": "stdout",
     "output_type": "stream",
     "text": [
      "count    15.000000\n",
      "mean     33.271333\n",
      "std      16.945401\n",
      "min      24.140000\n",
      "25%      25.470000\n",
      "50%      26.710000\n",
      "75%      33.975000\n",
      "max      91.360000\n",
      "dtype: float64\n",
      "variance: 287.1466123809524\n"
     ]
    }
   ],
   "source": [
    "import pandas as pd\n",
    "\n",
    "# String containing percentages\n",
    "percentages_string = \"24.23% 25.53% 25.41% 24.14% 29.62% 28.25% 25.81% 24.39% 40.26% 32.95% 91.36% 25.99% 39.42% 26.71% 35.00%\"\n",
    "\n",
    "# Step 1: Remove the percentage symbol and split the string into individual percentages\n",
    "percentages_list = percentages_string.split()\n",
    "\n",
    "# Step 2: Convert the cleaned strings into floats\n",
    "percentages_numeric = [float(percentage.strip('%')) for percentage in percentages_list]\n",
    "\n",
    "# Step 3: Create a Pandas Series from the numeric percentages\n",
    "percentages_series = pd.Series(percentages_numeric)\n",
    "\n",
    "# Step 4: Use the describe function to calculate summary statistics\n",
    "summary_stats = percentages_series.describe()\n",
    "\n",
    "print(summary_stats)\n",
    "print(\"variance:\", percentages_series.var())"
   ]
  },
  {
   "cell_type": "code",
   "execution_count": 12,
   "id": "4416150f",
   "metadata": {},
   "outputs": [
    {
     "data": {
      "image/png": "[encoded data removed]",
      "text/plain": [
       "<Figure size 800x400 with 1 Axes>"
      ]
     },
     "metadata": {},
     "output_type": "display_data"
    }
   ],
   "source": [
    "import seaborn as sns\n",
    "import matplotlib.pyplot as plt\n",
    "plt.figure(figsize=(8,4))\n",
    "sns.boxplot(x=percentages_series, data=df)\n",
    "plt.show()\n",
    "   \n"
   ]
  },
  {
   "cell_type": "code",
   "execution_count": 14,
   "id": "3d9f3ef9",
   "metadata": {},
   "outputs": [
    {
     "data": {
      "image/png": "[encoded data removed]",
      "text/plain": [
       "<Figure size 1000x500 with 1 Axes>"
      ]
     },
     "metadata": {},
     "output_type": "display_data"
    }
   ],
   "source": []
  },
  {
   "cell_type": "code",
   "execution_count": 6,
   "id": "5a6cbe8b",
   "metadata": {},
   "outputs": [
    {
     "data": {
      "text/plain": [
       "0.26598552904870054"
      ]
     },
     "execution_count": 6,
     "metadata": {},
     "output_type": "execute_result"
    }
   ],
   "source": [
    "#1.\tThe time required for servicing transmissions is normally distributed with  = 45 minutes and  = 8 minutes. \n",
    "#The service manager plans to have work begin on the transmission of a customer’s car 10 minutes after the car is dropped off and \n",
    "#the customer is told that the car will be ready within 1 hour from drop-off. What is the probability that the service manager cannot meet his commitment? \n",
    "\n",
    "from scipy.stats import norm\n",
    "nd=norm(45,8)\n",
    "x1=nd.cdf(50)\n",
    "x1\n",
    "x2=1-x1\n",
    "x2"
   ]
  },
  {
   "cell_type": "code",
   "execution_count": 9,
   "id": "dd1d5698",
   "metadata": {},
   "outputs": [
    {
     "data": {
      "text/plain": [
       "0.15865525393145707"
      ]
     },
     "execution_count": 9,
     "metadata": {},
     "output_type": "execute_result"
    }
   ],
   "source": [
    "nd=norm(38,6)\n",
    "x1=nd.cdf(44)\n",
    "x2=1-x1\n",
    "x2"
   ]
  },
  {
   "cell_type": "code",
   "execution_count": 10,
   "id": "0683117d",
   "metadata": {},
   "outputs": [
    {
     "data": {
      "text/plain": [
       "0.3413447460685429"
      ]
     },
     "execution_count": 10,
     "metadata": {},
     "output_type": "execute_result"
    }
   ],
   "source": [
    "x2=nd.cdf(44)-nd.cdf(38)\n",
    "x2"
   ]
  },
  {
   "cell_type": "code",
   "execution_count": 12,
   "id": "269b6f99",
   "metadata": {},
   "outputs": [
    {
     "data": {
      "text/plain": [
       "0.9087887802741321"
      ]
     },
     "execution_count": 12,
     "metadata": {},
     "output_type": "execute_result"
    }
   ],
   "source": [
    "x3=1-nd.cdf(30)\n",
    "x3"
   ]
  },
  {
   "cell_type": "code",
   "execution_count": 13,
   "id": "bde788b8",
   "metadata": {},
   "outputs": [
    {
     "data": {
      "text/plain": [
       "0.5"
      ]
     },
     "execution_count": 13,
     "metadata": {},
     "output_type": "execute_result"
    }
   ],
   "source": [
    "x4=nd.cdf(38)\n",
    "x4"
   ]
  },
  {
   "cell_type": "code",
   "execution_count": 17,
   "id": "97f9679b",
   "metadata": {},
   "outputs": [
    {
     "data": {
      "text/plain": [
       "0.4087887802741321"
      ]
     },
     "execution_count": 17,
     "metadata": {},
     "output_type": "execute_result"
    }
   ],
   "source": [
    "x5=x3-x4\n",
    "x5"
   ]
  },
  {
   "cell_type": "code",
   "execution_count": 18,
   "id": "89f77ebb",
   "metadata": {},
   "outputs": [
    {
     "data": {
      "text/plain": [
       "163.51551210965286"
      ]
     },
     "execution_count": 18,
     "metadata": {},
     "output_type": "execute_result"
    }
   ],
   "source": [
    "ans=x5*400\n",
    "ans\n"
   ]
  },
  {
   "cell_type": "code",
   "execution_count": 1,
   "id": "829270d0",
   "metadata": {},
   "outputs": [
    {
     "name": "stdout",
     "output_type": "stream",
     "text": [
      "The minimum required sample size is: 601\n"
     ]
    }
   ],
   "source": [
    "\n",
    "#8.How many randomly selected employers (minimum number) must we contact in order to guarantee a margin of error of no more than 4% (at 95% confidence)?\n",
    "import math\n",
    "from scipy import stats\n",
    "\n",
    "# Given data\n",
    "confidence_level = 0.95  # 95% confidence level\n",
    "margin_of_error = 0.04  # 4% margin of error\n",
    "\n",
    "# Calculate the critical value (Z) for the desired confidence level\n",
    "critical_value = abs(stats.norm.ppf((1 - confidence_level) / 2))\n",
    "\n",
    "# Calculate the minimum required sample size\n",
    "required_sample_size = math.ceil((critical_value**2 * 0.25) / (margin_of_error**2))\n",
    "\n",
    "print(f\"The minimum required sample size is: {required_sample_size}\")\n"
   ]
  },
  {
   "cell_type": "code",
   "execution_count": 2,
   "id": "530cb9da",
   "metadata": {},
   "outputs": [
    {
     "name": "stdout",
     "output_type": "stream",
     "text": [
      "The minimum required sample size is: 846\n"
     ]
    }
   ],
   "source": [
    "#9.\tSuppose we want the above margin of error to be based on a 98% confidence level.\n",
    "# What sample size (minimum) must we now use?\n",
    "import math\n",
    "from scipy import stats\n",
    "\n",
    "# Given data\n",
    "confidence_level = 0.98  # 98% confidence level\n",
    "margin_of_error = 0.04  # 4% margin of error\n",
    "\n",
    "# Calculate the critical value (Z) for the desired confidence level\n",
    "critical_value = abs(stats.norm.ppf((1 - confidence_level) / 2))\n",
    "\n",
    "# Calculate the minimum required sample size\n",
    "required_sample_size = math.ceil((critical_value**2 * 0.25) / (margin_of_error**2))\n",
    "\n",
    "print(f\"The minimum required sample size is: {required_sample_size}\")\n",
    "\n",
    "\n"
   ]
  },
  {
   "cell_type": "code",
   "execution_count": 3,
   "id": "d5b48f97",
   "metadata": {},
   "outputs": [
    {
     "name": "stdout",
     "output_type": "stream",
     "text": [
      "A. The population: 9000\n",
      "B. The parameter of interest: 7.5\n",
      "C. The sampling frame: Assumed to be all PC Magazine readers\n",
      "D. The sample size: 225\n",
      "E. The sampling design: Specific design not provided\n",
      "F. Potential sources of bias or other problems: Without detailed methodology, can't identify specific biases.\n"
     ]
    }
   ],
   "source": [
    "#2.\tPC Magazine asked all of its readers to participate in a survey of their satisfaction with different brands of electronics. \n",
    "#In the 2004 survey, which was included in an issue of the magazine that year, more than 9000 readers rated the products on a scale from 1 to 10. \n",
    "#The magazine reported that the average rating assigned by 225 readers to a Kodak compact digital camera was 7.5. \n",
    "#For this product, identify the following:# Given information\n",
    "total_readers = 9000\n",
    "sample_size = 225\n",
    "average_rating = 7.5\n",
    "\n",
    "# A. The population\n",
    "population = total_readers\n",
    "\n",
    "# B. The parameter of interest\n",
    "parameter_of_interest = average_rating\n",
    "\n",
    "# C. The sampling frame\n",
    "# The sampling frame is assumed to be all PC Magazine readers who were invited to participate in the survey.\n",
    "# We can consider the total readers as the potential sampling frame.\n",
    "\n",
    "# D. The sample size\n",
    "sample_size = sample_size\n",
    "\n",
    "# E. The sampling design\n",
    "# The specific sampling design is not provided. We assume a simple random sampling method for illustration.\n",
    "\n",
    "# F. Potential sources of bias or other problems\n",
    "# Without detailed survey methodology, it's challenging to identify specific biases.\n",
    "# Common potential sources of bias include non-response bias, self-selection bias, and limitations in the sampling frame.\n",
    "\n",
    "# Display the results\n",
    "print(f\"A. The population: {population}\")\n",
    "print(f\"B. The parameter of interest: {parameter_of_interest}\")\n",
    "print(f\"C. The sampling frame: Assumed to be all PC Magazine readers\")\n",
    "print(f\"D. The sample size: {sample_size}\")\n",
    "print(f\"E. The sampling design: Specific design not provided\")\n",
    "print(f\"F. Potential sources of bias or other problems: Without detailed methodology, can't identify specific biases.\")\n"
   ]
  },
  {
   "cell_type": "code",
   "execution_count": 4,
   "id": "9f5888ab",
   "metadata": {},
   "outputs": [],
   "source": [
    "#5.\tConsider a company that has two different divisions.\n",
    "#The annual profits from the two divisions are independent and have distributions Profit1 ~ N(5, 32) and Profit2 ~ N(7, 42) respectively. \n",
    "#Both the profits are in $ Million. Answer the following questions about the total profit of the company in Rupees. \n",
    "#Assume that $1 = Rs. 45\n",
    "import numpy as np\n",
    "import matplotlib.pyplot as plt\n",
    "from scipy.stats import norm"
   ]
  },
  {
   "cell_type": "code",
   "execution_count": 5,
   "id": "1f0fdc8c",
   "metadata": {},
   "outputs": [],
   "source": [
    "# Constants\n",
    "mean_profit1 = 225 * 45  # in million Rupees\n",
    "std_dev_profit1 = 180 * 45  # in million Rupees\n",
    "mean_profit2 = 315 * 45  # in million Rupees\n",
    "std_dev_profit2 = 283.21 * 45  # in million Rupees\n",
    "\n",
    "# Calculate total profit statistics\n",
    "mean_total_profit = mean_profit1 + mean_profit2\n",
    "std_dev_total_profit = ((std_dev_profit1 ** 2) + (std_dev_profit2 ** 2)) ** 0.5\n"
   ]
  },
  {
   "cell_type": "code",
   "execution_count": 6,
   "id": "52924f33",
   "metadata": {},
   "outputs": [
    {
     "data": {
      "text/plain": [
       "59193.63880120116"
      ]
     },
     "execution_count": 6,
     "metadata": {},
     "output_type": "execute_result"
    }
   ],
   "source": [
    "\n",
    "# Calculate the 95% confidence interval\n",
    "confidence_level = 0.95\n",
    "z_score = norm.ppf(1 - (1 - confidence_level) / 2)\n",
    "lower_bound = mean_total_profit - z_score * std_dev_total_profit\n",
    "upper_bound = mean_total_profit + z_score * std_dev_total_profit\n",
    "upper_bound-lower_bound"
   ]
  },
  {
   "cell_type": "code",
   "execution_count": 7,
   "id": "818bedfc",
   "metadata": {},
   "outputs": [
    {
     "name": "stdout",
     "output_type": "stream",
     "text": [
      "B. 5th Percentile of Profit: -538.43 million Rupees\n"
     ]
    }
   ],
   "source": [
    "# Calculate the 5th percentile of profit\n",
    "percentile_5 = norm.ppf(0.05, loc=mean_total_profit, scale=std_dev_total_profit)\n",
    "\n",
    "# Display the result\n",
    "print(f\"B. 5th Percentile of Profit: {percentile_5:.2f} million Rupees\")\n"
   ]
  },
  {
   "cell_type": "code",
   "execution_count": 8,
   "id": "136e2b63",
   "metadata": {},
   "outputs": [],
   "source": [
    "probability_loss_profit1 = norm.cdf(0, loc=mean_profit1, scale=std_dev_profit1)\n",
    "\n",
    "probability_loss_profit2 = norm.cdf(0, loc=mean_profit2, scale=std_dev_profit2)\n"
   ]
  },
  {
   "cell_type": "code",
   "execution_count": 9,
   "id": "a888e83a",
   "metadata": {},
   "outputs": [
    {
     "name": "stdout",
     "output_type": "stream",
     "text": [
      "C. Profit2 has a larger probability of making a loss in a given year.\n"
     ]
    }
   ],
   "source": [
    "if probability_loss_profit1 > probability_loss_profit2:\n",
    "    print(\"C. Profit1 has a larger probability of making a loss in a given year.\")\n",
    "elif probability_loss_profit2 > probability_loss_profit1:\n",
    "    print(\"C. Profit2 has a larger probability of making a loss in a given year.\")\n",
    "else:\n",
    "    print(\"C. Both divisions have the same probability of making a loss in a given year.\")\n"
   ]
  },
  {
   "cell_type": "code",
   "execution_count": null,
   "id": "c9be4e91",
   "metadata": {},
   "outputs": [],
   "source": []
  }
 ],
 "metadata": {
  "kernelspec": {
   "display_name": "Python 3 (ipykernel)",
   "language": "python",
   "name": "python3"
  },
  "language_info": {
   "codemirror_mode": {
    "name": "ipython",
    "version": 3
   },
   "file_extension": ".py",
   "mimetype": "text/x-python",
   "name": "python",
   "nbconvert_exporter": "python",
   "pygments_lexer": "ipython3",
   "version": "3.11.5"
  }
 },
 "nbformat": 4,
 "nbformat_minor": 5
}
